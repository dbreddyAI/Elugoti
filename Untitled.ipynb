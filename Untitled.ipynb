{
 "cells": [
  {
   "cell_type": "code",
   "execution_count": 1,
   "metadata": {},
   "outputs": [],
   "source": [
    "import pandas\n",
    "data = pandas.read_excel(r\"C:\\Users\\TJ869ZL\\Downloads\\kishore\\baterm4\\Global Superstore Orders 2016.xlsx\")"
   ]
  },
  {
   "cell_type": "code",
   "execution_count": 92,
   "metadata": {},
   "outputs": [
    {
     "name": "stdout",
     "output_type": "stream",
     "text": [
      "(51290, 24)\n",
      "Index(['Row ID', 'Order ID', 'Order Date', 'Ship Date', 'Ship Mode',\n",
      "       'Customer ID', 'Customer Name', 'Segment', 'Postal Code', 'City',\n",
      "       'State', 'Country', 'Region', 'Market', 'Product ID', 'Category',\n",
      "       'Sub-Category', 'Product Name', 'Sales', 'Quantity', 'Discount',\n",
      "       'Profit', 'Shipping Cost', 'Order Priority'],\n",
      "      dtype='object')\n"
     ]
    }
   ],
   "source": [
    "print(data.shape)\n",
    "print(data.columns)"
   ]
  },
  {
   "cell_type": "markdown",
   "metadata": {},
   "source": [
    "# Hypothesis Statement - 1 --> Normality Test"
   ]
  },
  {
   "cell_type": "code",
   "execution_count": 31,
   "metadata": {},
   "outputs": [
    {
     "name": "stdout",
     "output_type": "stream",
     "text": [
      "stat=0.47, p=0.00000000000000000000\n",
      "Not a Normal Distribution--Reject Null Hypothesis H0\n"
     ]
    }
   ],
   "source": [
    "# First Hypothesis statement - Normality Test using Shapiro-wilk test : Tests if sales column data is normally distributed\n",
    "# alpha = 0.05\n",
    "# p <= alpha: reject H0, not normal.\n",
    "# p > alpha: fail to reject H0, normal.\n",
    "# The tests assume that that the sample was drawn from a Normal distribution called the null hypothesis or H0.\n",
    "# H0: the sample has a Normal distribution.\n",
    "# H1: the sample does not have a Normal distribution.\n",
    "\n",
    "from scipy.stats import shapiro\n",
    "data_to_test = data['Sales']\n",
    "stat, p = shapiro(data_to_test)\n",
    "print('stat=%.2f, p=%.20f' % (stat,p))\n",
    "if p > 0.05:\n",
    "    print('Normal Distribution--Fail to reject Null Hypothesis H0')\n",
    "else:\n",
    "    print(\"Not a Normal Distribution--Reject Null Hypothesis H0\")\n"
   ]
  },
  {
   "cell_type": "code",
   "execution_count": 29,
   "metadata": {},
   "outputs": [
    {
     "name": "stdout",
     "output_type": "stream",
     "text": [
      "count    51290.000000\n",
      "mean       246.490581\n",
      "std        487.565361\n",
      "min          0.444000\n",
      "25%         30.758625\n",
      "50%         85.053000\n",
      "75%        251.053200\n",
      "max      22638.480000\n",
      "Name: Sales, dtype: float64\n",
      "Mode : 12.96\n"
     ]
    }
   ],
   "source": [
    "# Mean , Median(50%) & Mode are not equalfor sales column data -- Not a Normal Distribution\n",
    "print(data['Sales'].describe())\n",
    "import statistics\n",
    "print('Mode :', statistics.mode(data['Sales']))"
   ]
  },
  {
   "cell_type": "code",
   "execution_count": 30,
   "metadata": {},
   "outputs": [
    {
     "data": {
      "image/png": "[encoded data removed]",
      "text/plain": [
       "<Figure size 360x360 with 1 Axes>"
      ]
     },
     "metadata": {
      "needs_background": "light"
     },
     "output_type": "display_data"
    }
   ],
   "source": [
    "# Histogram for sales column data - Not a Normal Distribution\n",
    "import matplotlib\n",
    "from matplotlib import pyplot\n",
    "%matplotlib inline\n",
    "pyplot.figure(figsize=(5,5))\n",
    "pyplot.hist(data['Sales'])\n",
    "pyplot.show()"
   ]
  },
  {
   "cell_type": "markdown",
   "metadata": {},
   "source": [
    "# Hypothesis Statement - 2 --> Correlation Test - Pearson correlation"
   ]
  },
  {
   "cell_type": "code",
   "execution_count": 84,
   "metadata": {},
   "outputs": [
    {
     "name": "stdout",
     "output_type": "stream",
     "text": [
      "stat=0.485, p=0.000000\n",
      "Pearsons correlation: 0.485\n",
      "Dependent samples-Reject H0\n"
     ]
    }
   ],
   "source": [
    "# H0: the two samples sales and profit are independent.\n",
    "# H1: there is a dependency between the samples.\n",
    "\n",
    "firstsample = data['Sales']\n",
    "secondsample = data['Profit']\n",
    "from scipy.stats import pearsonr\n",
    "stat, p = pearsonr(firstsample,secondsample)\n",
    "corr, _ = pearsonr(firstsample, secondsample) \n",
    "print('stat=%.3f, p=%5f' % (stat, p))\n",
    "print('Pearsons correlation: %.3f' % corr)\n",
    "if p > 0.05:\n",
    "    print('Independent samples-Fail to Reject H0')\n",
    "else:\n",
    "    print('Dependent samples-Reject H0')"
   ]
  },
  {
   "cell_type": "code",
   "execution_count": 85,
   "metadata": {},
   "outputs": [
    {
     "name": "stdout",
     "output_type": "stream",
     "text": [
      "pearson correlation coefficient =  0.4849181126194444\n",
      "Spearman correlation coefficient =  0.4901910469388152\n",
      "Kendall Tau correlation coefficient =  0.3894152204641049\n"
     ]
    }
   ],
   "source": [
    "import scipy.stats\n",
    "print(\"pearson correlation coefficient = \", scipy.stats.pearsonr(data['Sales'], data['Profit'])[0])\n",
    "print(\"Spearman correlation coefficient = \", scipy.stats.spearmanr(data['Sales'], data['Profit'])[0]) \n",
    "print(\"Kendall Tau correlation coefficient = \", scipy.stats.kendalltau(data['Sales'], data['Profit'])[0])"
   ]
  },
  {
   "cell_type": "code",
   "execution_count": 86,
   "metadata": {},
   "outputs": [
    {
     "data": {
      "text/plain": [
       "0.4849181126194451"
      ]
     },
     "execution_count": 86,
     "metadata": {},
     "output_type": "execute_result"
    }
   ],
   "source": [
    "data['Sales'].corr(data['Profit'])"
   ]
  },
  {
   "cell_type": "code",
   "execution_count": 87,
   "metadata": {},
   "outputs": [
    {
     "data": {
      "text/plain": [
       "array([[1.        , 0.48491811],\n",
       "       [0.48491811, 1.        ]])"
      ]
     },
     "execution_count": 87,
     "metadata": {},
     "output_type": "execute_result"
    }
   ],
   "source": [
    "# Correlation on 2 columns using numpy\n",
    "import numpy as np\n",
    "np.corrcoef(data['Sales'],data['Profit'])"
   ]
  },
  {
   "cell_type": "code",
   "execution_count": 88,
   "metadata": {},
   "outputs": [
    {
     "data": {
      "text/html": [
       "<div>\n",
       "<style scoped>\n",
       "    .dataframe tbody tr th:only-of-type {\n",
       "        vertical-align: middle;\n",
       "    }\n",
       "\n",
       "    .dataframe tbody tr th {\n",
       "        vertical-align: top;\n",
       "    }\n",
       "\n",
       "    .dataframe thead th {\n",
       "        text-align: right;\n",
       "    }\n",
       "</style>\n",
       "<table border=\"1\" class=\"dataframe\">\n",
       "  <thead>\n",
       "    <tr style=\"text-align: right;\">\n",
       "      <th></th>\n",
       "      <th>Row ID</th>\n",
       "      <th>Postal Code</th>\n",
       "      <th>Sales</th>\n",
       "      <th>Quantity</th>\n",
       "      <th>Discount</th>\n",
       "      <th>Profit</th>\n",
       "      <th>Shipping Cost</th>\n",
       "    </tr>\n",
       "  </thead>\n",
       "  <tbody>\n",
       "    <tr>\n",
       "      <th>Row ID</th>\n",
       "      <td>1.000000</td>\n",
       "      <td>0.009671</td>\n",
       "      <td>-0.043889</td>\n",
       "      <td>-0.173483</td>\n",
       "      <td>0.087594</td>\n",
       "      <td>-0.019037</td>\n",
       "      <td>-0.038431</td>\n",
       "    </tr>\n",
       "    <tr>\n",
       "      <th>Postal Code</th>\n",
       "      <td>0.009671</td>\n",
       "      <td>1.000000</td>\n",
       "      <td>-0.023854</td>\n",
       "      <td>0.012761</td>\n",
       "      <td>0.058443</td>\n",
       "      <td>-0.029961</td>\n",
       "      <td>-0.025491</td>\n",
       "    </tr>\n",
       "    <tr>\n",
       "      <th>Sales</th>\n",
       "      <td>-0.043889</td>\n",
       "      <td>-0.023854</td>\n",
       "      <td>1.000000</td>\n",
       "      <td>0.313577</td>\n",
       "      <td>-0.086722</td>\n",
       "      <td>0.484918</td>\n",
       "      <td>0.767835</td>\n",
       "    </tr>\n",
       "    <tr>\n",
       "      <th>Quantity</th>\n",
       "      <td>-0.173483</td>\n",
       "      <td>0.012761</td>\n",
       "      <td>0.313577</td>\n",
       "      <td>1.000000</td>\n",
       "      <td>-0.019875</td>\n",
       "      <td>0.104365</td>\n",
       "      <td>0.271804</td>\n",
       "    </tr>\n",
       "    <tr>\n",
       "      <th>Discount</th>\n",
       "      <td>0.087594</td>\n",
       "      <td>0.058443</td>\n",
       "      <td>-0.086722</td>\n",
       "      <td>-0.019875</td>\n",
       "      <td>1.000000</td>\n",
       "      <td>-0.316490</td>\n",
       "      <td>-0.078153</td>\n",
       "    </tr>\n",
       "    <tr>\n",
       "      <th>Profit</th>\n",
       "      <td>-0.019037</td>\n",
       "      <td>-0.029961</td>\n",
       "      <td>0.484918</td>\n",
       "      <td>0.104365</td>\n",
       "      <td>-0.316490</td>\n",
       "      <td>1.000000</td>\n",
       "      <td>0.354423</td>\n",
       "    </tr>\n",
       "    <tr>\n",
       "      <th>Shipping Cost</th>\n",
       "      <td>-0.038431</td>\n",
       "      <td>-0.025491</td>\n",
       "      <td>0.767835</td>\n",
       "      <td>0.271804</td>\n",
       "      <td>-0.078153</td>\n",
       "      <td>0.354423</td>\n",
       "      <td>1.000000</td>\n",
       "    </tr>\n",
       "  </tbody>\n",
       "</table>\n",
       "</div>"
      ],
      "text/plain": [
       "                 Row ID  Postal Code     Sales  Quantity  Discount    Profit  \\\n",
       "Row ID         1.000000     0.009671 -0.043889 -0.173483  0.087594 -0.019037   \n",
       "Postal Code    0.009671     1.000000 -0.023854  0.012761  0.058443 -0.029961   \n",
       "Sales         -0.043889    -0.023854  1.000000  0.313577 -0.086722  0.484918   \n",
       "Quantity      -0.173483     0.012761  0.313577  1.000000 -0.019875  0.104365   \n",
       "Discount       0.087594     0.058443 -0.086722 -0.019875  1.000000 -0.316490   \n",
       "Profit        -0.019037    -0.029961  0.484918  0.104365 -0.316490  1.000000   \n",
       "Shipping Cost -0.038431    -0.025491  0.767835  0.271804 -0.078153  0.354423   \n",
       "\n",
       "               Shipping Cost  \n",
       "Row ID             -0.038431  \n",
       "Postal Code        -0.025491  \n",
       "Sales               0.767835  \n",
       "Quantity            0.271804  \n",
       "Discount           -0.078153  \n",
       "Profit              0.354423  \n",
       "Shipping Cost       1.000000  "
      ]
     },
     "execution_count": 88,
     "metadata": {},
     "output_type": "execute_result"
    }
   ],
   "source": [
    "# correlation on entire dataframe using pandas\n",
    "data.corr(method = 'pearson')"
   ]
  },
  {
   "cell_type": "code",
   "execution_count": 89,
   "metadata": {},
   "outputs": [
    {
     "data": {
      "text/plain": [
       "<AxesSubplot:>"
      ]
     },
     "execution_count": 89,
     "metadata": {},
     "output_type": "execute_result"
    },
    {
     "data": {
      "image/png": "[encoded data removed]",
      "text/plain": [
       "<Figure size 432x288 with 2 Axes>"
      ]
     },
     "metadata": {
      "needs_background": "light"
     },
     "output_type": "display_data"
    }
   ],
   "source": [
    "import seaborn as sns\n",
    "sns.heatmap(data.corr(method = 'pearson'),cmap='YlGnBu',annot=True)"
   ]
  },
  {
   "cell_type": "code",
   "execution_count": 90,
   "metadata": {},
   "outputs": [
    {
     "data": {
      "image/png": "[encoded data removed]",
      "text/plain": [
       "<Figure size 432x288 with 1 Axes>"
      ]
     },
     "metadata": {
      "needs_background": "light"
     },
     "output_type": "display_data"
    }
   ],
   "source": [
    "import matplotlib\n",
    "from matplotlib import pyplot\n",
    "%matplotlib inline\n",
    "pyplot.plot(firstsample,secondsample)\n",
    "pyplot.show()"
   ]
  },
  {
   "cell_type": "code",
   "execution_count": 91,
   "metadata": {},
   "outputs": [
    {
     "data": {
      "text/plain": [
       "Text(0.5, 1.015, 'sales vs profit')"
      ]
     },
     "execution_count": 91,
     "metadata": {},
     "output_type": "execute_result"
    },
    {
     "data": {
      "image/png": "[encoded data removed]",
      "text/plain": [
       "<Figure size 432x288 with 1 Axes>"
      ]
     },
     "metadata": {
      "needs_background": "light"
     },
     "output_type": "display_data"
    }
   ],
   "source": [
    "# Scatter plot of sales and profit correlation \n",
    "import matplotlib.pyplot as plt\n",
    "plt.scatter(x=data['Sales'], y=data['Profit'])\n",
    "plt.xlabel(\"sales\", labelpad=5)\n",
    "plt.ylabel(\"profit\", labelpad=5)\n",
    "plt.title(\"sales vs profit\", y=1.015)"
   ]
  },
  {
   "cell_type": "markdown",
   "metadata": {},
   "source": [
    "# Hypothesis Statement - 3 -->"
   ]
  },
  {
   "cell_type": "code",
   "execution_count": null,
   "metadata": {},
   "outputs": [],
   "source": []
  }
 ],
 "metadata": {
  "kernelspec": {
   "display_name": "Python 3",
   "language": "python",
   "name": "python3"
  },
  "language_info": {
   "codemirror_mode": {
    "name": "ipython",
    "version": 3
   },
   "file_extension": ".py",
   "mimetype": "text/x-python",
   "name": "python",
   "nbconvert_exporter": "python",
   "pygments_lexer": "ipython3",
   "version": "3.8.5"
  }
 },
 "nbformat": 4,
 "nbformat_minor": 4
}
